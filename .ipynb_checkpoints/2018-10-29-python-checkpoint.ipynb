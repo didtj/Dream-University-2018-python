{
 "cells": [
  {
   "cell_type": "markdown",
   "metadata": {},
   "source": [
    "## 경기꿈의 대학 2018-10-29 5차시"
   ]
  },
  {
   "cell_type": "markdown",
   "metadata": {},
   "source": [
    "### 제어문"
   ]
  },
  {
   "cell_type": "markdown",
   "metadata": {},
   "source": [
    "### if문"
   ]
  },
  {
   "cell_type": "code",
   "execution_count": 7,
   "metadata": {},
   "outputs": [],
   "source": [
    "#관계연산자\n",
    "x=3\n",
    "y=4"
   ]
  },
  {
   "cell_type": "code",
   "execution_count": 11,
   "metadata": {},
   "outputs": [
    {
     "data": {
      "text/plain": [
       "False"
      ]
     },
     "execution_count": 11,
     "metadata": {},
     "output_type": "execute_result"
    }
   ],
   "source": [
    "x==y # x와 y 같나?"
   ]
  },
  {
   "cell_type": "code",
   "execution_count": 12,
   "metadata": {},
   "outputs": [
    {
     "data": {
      "text/plain": [
       "True"
      ]
     },
     "execution_count": 12,
     "metadata": {},
     "output_type": "execute_result"
    }
   ],
   "source": [
    "x!=y # x와 y 다른가?"
   ]
  },
  {
   "cell_type": "code",
   "execution_count": 13,
   "metadata": {},
   "outputs": [
    {
     "data": {
      "text/plain": [
       "False"
      ]
     },
     "execution_count": 13,
     "metadata": {},
     "output_type": "execute_result"
    }
   ],
   "source": [
    "x>y # x가 y 보다 큰가?"
   ]
  },
  {
   "cell_type": "code",
   "execution_count": 14,
   "metadata": {},
   "outputs": [
    {
     "data": {
      "text/plain": [
       "False"
      ]
     },
     "execution_count": 14,
     "metadata": {},
     "output_type": "execute_result"
    }
   ],
   "source": [
    "x>=y # x가 y이상?"
   ]
  },
  {
   "cell_type": "code",
   "execution_count": 15,
   "metadata": {},
   "outputs": [
    {
     "data": {
      "text/plain": [
       "True"
      ]
     },
     "execution_count": 15,
     "metadata": {},
     "output_type": "execute_result"
    }
   ],
   "source": [
    "x<y #x가 y보다 작나?"
   ]
  },
  {
   "cell_type": "code",
   "execution_count": 16,
   "metadata": {},
   "outputs": [
    {
     "data": {
      "text/plain": [
       "True"
      ]
     },
     "execution_count": 16,
     "metadata": {},
     "output_type": "execute_result"
    }
   ],
   "source": [
    "x<=y #x가 y이하?"
   ]
  },
  {
   "cell_type": "code",
   "execution_count": 27,
   "metadata": {},
   "outputs": [
    {
     "name": "stdout",
     "output_type": "stream",
     "text": [
      "you are perpect\n"
     ]
    }
   ],
   "source": [
    "score=100;\n",
    "if score>=95:  # : 은 연결된 거 표현\n",
    "    print(\"you are perpect\")\n",
    "else:\n",
    "    print(\"you're poor\")"
   ]
  },
  {
   "cell_type": "code",
   "execution_count": 26,
   "metadata": {},
   "outputs": [
    {
     "name": "stdout",
     "output_type": "stream",
     "text": [
      "you can't see it\n"
     ]
    }
   ],
   "source": [
    "# 영화관 입장 나이 판독기\n",
    "a=int(input('how old are you : '))\n",
    "if a>=18:\n",
    "    print(\"you can see it\")\n",
    "else:\n",
    "    print(\"you can't see it\")"
   ]
  },
  {
   "cell_type": "code",
   "execution_count": 32,
   "metadata": {},
   "outputs": [
    {
     "name": "stdout",
     "output_type": "stream",
     "text": [
      "you can go there\n"
     ]
    }
   ],
   "source": [
    "# 논리 연산자\n",
    "# and 은 둘 다 참일 때 작동\n",
    "# or 은 둘 중 하나 라도 참이면 참 둘 다 거짓이어야 거짓\n",
    "# not 은 오는 값의 참 거짓 뒤집음\n",
    "t=int(input('키 : '))\n",
    "w=int(input('무게 : '))\n",
    "if t>=160 and w<100:\n",
    "    print(\"you can go there\")\n",
    "else:\n",
    "    print(\"you can't do that\")"
   ]
  },
  {
   "cell_type": "code",
   "execution_count": 40,
   "metadata": {},
   "outputs": [
    {
     "name": "stdout",
     "output_type": "stream",
     "text": [
      "음수입나다\n"
     ]
    }
   ],
   "source": [
    "# 양수,음수,0 판독기\n",
    "# if 뒤에 오는 값 참일 시 진행\n",
    "# elif 는 if 다음의 if 즉 else if\n",
    "# else 는 c언어의 else와 일치\n",
    "num=int(input(\"정수를 입력하세요 : \"))\n",
    "if num>0:\n",
    "    print(\"양수입니다\")\n",
    "elif num==0:\n",
    "    print(\"0 입니다\")\n",
    "else:\n",
    "    print(\"음수입나다\")"
   ]
  },
  {
   "cell_type": "code",
   "execution_count": 42,
   "metadata": {},
   "outputs": [
    {
     "name": "stdout",
     "output_type": "stream",
     "text": [
      "there isn't matching ID\n"
     ]
    }
   ],
   "source": [
    "id='all i want is crystal'\n",
    "ID=input();\n",
    "if id==ID:\n",
    "    print(\"log in\")\n",
    "else:\n",
    "    print(\"there isn't matching ID\")"
   ]
  },
  {
   "cell_type": "markdown",
   "metadata": {},
   "source": [
    "### 반복문"
   ]
  },
  {
   "cell_type": "code",
   "execution_count": 43,
   "metadata": {},
   "outputs": [
    {
     "name": "stdout",
     "output_type": "stream",
     "text": [
      "wellcome\n",
      "wellcome\n",
      "wellcome\n",
      "wellcome\n",
      "wellcome\n"
     ]
    }
   ],
   "source": [
    "print(\"wellcome\")\n",
    "print(\"wellcome\")\n",
    "print(\"wellcome\")\n",
    "print(\"wellcome\")\n",
    "print(\"wellcome\")"
   ]
  },
  {
   "cell_type": "code",
   "execution_count": 47,
   "metadata": {},
   "outputs": [
    {
     "name": "stdout",
     "output_type": "stream",
     "text": [
      "welcome\n",
      "welcome\n",
      "welcome\n",
      "welcome\n",
      "welcome\n",
      "welcome\n",
      "welcome\n",
      "welcome\n",
      "welcome\n",
      "welcome\n",
      "welcome\n",
      "welcome\n",
      "welcome\n",
      "welcome\n",
      "welcome\n",
      "welcome\n",
      "welcome\n",
      "welcome\n",
      "welcome\n",
      "welcome\n",
      "welcome\n",
      "welcome\n",
      "welcome\n",
      "welcome\n",
      "welcome\n",
      "welcome\n",
      "welcome\n",
      "welcome\n",
      "welcome\n",
      "welcome\n",
      "welcome\n",
      "welcome\n",
      "welcome\n",
      "welcome\n",
      "welcome\n",
      "welcome\n",
      "welcome\n",
      "welcome\n",
      "welcome\n",
      "welcome\n"
     ]
    }
   ],
   "source": [
    "for i in range(40):     # for 변수 in range(n)  n 만큼 반복(i=0~(n-1))\n",
    "    print(\"welcome\")"
   ]
  },
  {
   "cell_type": "code",
   "execution_count": 52,
   "metadata": {},
   "outputs": [
    {
     "name": "stdout",
     "output_type": "stream",
     "text": [
      "Hi 양서 .\n",
      "Hi 은서 .\n",
      "Hi 꿈 .\n",
      "Hi 몽상 .\n",
      "Hi 과학 .\n",
      "Hi 소설 .\n"
     ]
    }
   ],
   "source": [
    "friends=['양서','은서','꿈','몽상','과학','소설']\n",
    "for i in friends:    #for ~ in 목록 목록의 항목 수 만큼 반복\n",
    "    print(\"Hi\",i,'.')"
   ]
  },
  {
   "cell_type": "code",
   "execution_count": 54,
   "metadata": {},
   "outputs": [
    {
     "name": "stdout",
     "output_type": "stream",
     "text": [
      "I like melon .\n",
      "I like lime .\n",
      "I like lemon .\n",
      "I like peach .\n",
      "I like apple .\n"
     ]
    }
   ],
   "source": [
    "fruit=['melon','lime','lemon','peach','apple']\n",
    "for i in fruit:\n",
    "    print(\"I like\",i,'.')"
   ]
  },
  {
   "cell_type": "code",
   "execution_count": 71,
   "metadata": {},
   "outputs": [
    {
     "name": "stdout",
     "output_type": "stream",
     "text": [
      "\n",
      "2 * 1 = 2\n",
      "2 * 2 = 4\n",
      "2 * 3 = 6\n",
      "2 * 4 = 8\n",
      "2 * 5 = 10\n",
      "2 * 6 = 12\n",
      "2 * 7 = 14\n",
      "2 * 8 = 16\n",
      "2 * 9 = 18\n",
      "\n",
      "3 * 1 = 3\n",
      "3 * 2 = 6\n",
      "3 * 3 = 9\n",
      "3 * 4 = 12\n",
      "3 * 5 = 15\n",
      "3 * 6 = 18\n",
      "3 * 7 = 21\n",
      "3 * 8 = 24\n",
      "3 * 9 = 27\n",
      "\n",
      "4 * 1 = 4\n",
      "4 * 2 = 8\n",
      "4 * 3 = 12\n",
      "4 * 4 = 16\n",
      "4 * 5 = 20\n",
      "4 * 6 = 24\n",
      "4 * 7 = 28\n",
      "4 * 8 = 32\n",
      "4 * 9 = 36\n",
      "\n",
      "5 * 1 = 5\n",
      "5 * 2 = 10\n",
      "5 * 3 = 15\n",
      "5 * 4 = 20\n",
      "5 * 5 = 25\n",
      "5 * 6 = 30\n",
      "5 * 7 = 35\n",
      "5 * 8 = 40\n",
      "5 * 9 = 45\n",
      "\n",
      "6 * 1 = 6\n",
      "6 * 2 = 12\n",
      "6 * 3 = 18\n",
      "6 * 4 = 24\n",
      "6 * 5 = 30\n",
      "6 * 6 = 36\n",
      "6 * 7 = 42\n",
      "6 * 8 = 48\n",
      "6 * 9 = 54\n",
      "\n",
      "7 * 1 = 7\n",
      "7 * 2 = 14\n",
      "7 * 3 = 21\n",
      "7 * 4 = 28\n",
      "7 * 5 = 35\n",
      "7 * 6 = 42\n",
      "7 * 7 = 49\n",
      "7 * 8 = 56\n",
      "7 * 9 = 63\n",
      "\n",
      "8 * 1 = 8\n",
      "8 * 2 = 16\n",
      "8 * 3 = 24\n",
      "8 * 4 = 32\n",
      "8 * 5 = 40\n",
      "8 * 6 = 48\n",
      "8 * 7 = 56\n",
      "8 * 8 = 64\n",
      "8 * 9 = 72\n",
      "\n",
      "9 * 1 = 9\n",
      "9 * 2 = 18\n",
      "9 * 3 = 27\n",
      "9 * 4 = 36\n",
      "9 * 5 = 45\n",
      "9 * 6 = 54\n",
      "9 * 7 = 63\n",
      "9 * 8 = 72\n",
      "9 * 9 = 81\n"
     ]
    }
   ],
   "source": [
    "for i in range(2,10):\n",
    "    print(\"\")\n",
    "    for q in range(1,10):      # range(i,q,p) 는 i부터 p까지 q씩 해서\n",
    "        print(i,'*',q,\"=\",i*q)"
   ]
  },
  {
   "cell_type": "code",
   "execution_count": 70,
   "metadata": {},
   "outputs": [
    {
     "name": "stdout",
     "output_type": "stream",
     "text": [
      "1\n",
      "-1\n",
      "-3\n",
      "-5\n",
      "-7\n",
      "-9\n",
      "-11\n",
      "-13\n",
      "-15\n",
      "-17\n",
      "-19\n",
      "-21\n",
      "-23\n",
      "-25\n",
      "-27\n",
      "-29\n"
     ]
    }
   ],
   "source": [
    "for i in range(1,-30,-2):\n",
    "    print(i)"
   ]
  },
  {
   "cell_type": "code",
   "execution_count": 84,
   "metadata": {},
   "outputs": [
    {
     "name": "stdout",
     "output_type": "stream",
     "text": [
      "1 ! =  1\n",
      "2 ! =  2\n",
      "3 ! =  6\n",
      "4 ! =  24\n",
      "5 ! =  120\n",
      "6 ! =  720\n",
      "7 ! =  5040\n",
      "8 ! =  40320\n",
      "9 ! =  362880\n",
      "10 ! =  3628800\n",
      "11 ! =  39916800\n",
      "12 ! =  479001600\n",
      "13 ! =  6227020800\n",
      "\n",
      "결론 13 ! =  6227020800\n"
     ]
    }
   ],
   "source": [
    "a=int(input(\"정수를 입력하세요\"))\n",
    "p=1\n",
    "for i in range(1,a+1):\n",
    "    p=p*i\n",
    "    print(i,\"! = \",p)\n",
    "print(\"\")\n",
    "print('결론',a,\"! = \",p)"
   ]
  }
 ],
 "metadata": {
  "kernelspec": {
   "display_name": "Python 3",
   "language": "python",
   "name": "python3"
  },
  "language_info": {
   "codemirror_mode": {
    "name": "ipython",
    "version": 3
   },
   "file_extension": ".py",
   "mimetype": "text/x-python",
   "name": "python",
   "nbconvert_exporter": "python",
   "pygments_lexer": "ipython3",
   "version": "3.6.4"
  }
 },
 "nbformat": 4,
 "nbformat_minor": 2
}
